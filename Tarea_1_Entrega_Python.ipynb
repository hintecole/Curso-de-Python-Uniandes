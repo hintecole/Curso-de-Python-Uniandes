{
 "cells": [
  {
   "cell_type": "markdown",
   "metadata": {},
   "source": [
    "# Taller de Python\n",
    "## Profesores: Juan Moreno y Julián Chitiva\n",
    "### Tarea 1\n",
    "\n",
    "##### Recuerde que es de grupos la tarea, máximo 3 personas. Se abrirá un link en sicua para que la suban. Tienen hasta el lunes "
   ]
  },
  {
   "cell_type": "code",
   "execution_count": null,
   "metadata": {},
   "outputs": [],
   "source": [
    "# Entrega realizada por Elizabeth Nicole Linares Camus"
   ]
  },
  {
   "cell_type": "markdown",
   "metadata": {},
   "source": [
    "# Punto 1:\n",
    "Escriba una función llamada `maximo` que reciba como insumo una lista y extraiga el máximo de la misma. Es decir, una función que haga el equivalente a `max`, por supuesto no puede usar esta función dentro de la suya"
   ]
  },
  {
   "cell_type": "code",
   "execution_count": 12,
   "metadata": {},
   "outputs": [
    {
     "name": "stdout",
     "output_type": "stream",
     "text": [
      "[13, 1, 24, 17, 24, 1, 13, 2, 11, 11]\n"
     ]
    },
    {
     "data": {
      "text/plain": [
       "('el numero mayor de la lista es:', 24)"
      ]
     },
     "execution_count": 12,
     "metadata": {},
     "output_type": "execute_result"
    }
   ],
   "source": [
    "import numpy as np\n",
    "\n",
    "lista=[0,0,0,0,0,0,0,0,0,0]\n",
    "for i in range(len(lista)):\n",
    "    random=np.random.randint(0,25)\n",
    "    lista[i]=random\n",
    "print(lista)\n",
    "def maximo(lista):\n",
    "    mayor=0\n",
    "    for i in range(len(lista)):\n",
    "        if lista[i]>mayor:\n",
    "            mayor=lista[i]\n",
    "    return \"el numero mayor de la lista es:\", mayor\n",
    "maximo(lista)"
   ]
  },
  {
   "cell_type": "markdown",
   "metadata": {},
   "source": [
    "# Punto 2:\n",
    "Punto 2:\n",
    "Escriba una función llamada `palabra_mas_larga` que reciba una cadena de caracteres que retorne una tupla con la palabra más larga y su longitud.\n",
    "\n",
    "E.g. 'Eso es queso' -> ('queso', 5)    La palabra más larga es queso y tiene 5 caracteres."
   ]
  },
  {
   "cell_type": "code",
   "execution_count": 1,
   "metadata": {},
   "outputs": [],
   "source": [
    "def palabra_mas_larga(m):\n",
    "    palabras = m.split()\n",
    "    \n",
    "    n = palabras[0]\n",
    "    \n",
    "    for i in range(1, len(palabras)):\n",
    "        if len(n) < len(palabras[i]):\n",
    "            n = palabras[i]\n",
    "    result=(n, len(n))\n",
    "    return result"
   ]
  },
  {
   "cell_type": "code",
   "execution_count": 4,
   "metadata": {},
   "outputs": [
    {
     "name": "stdout",
     "output_type": "stream",
     "text": [
      "('extremadamente', 14)\n"
     ]
    }
   ],
   "source": [
    "lista5 = \"Mi casa es extremadamente grande y lujosa\"\n",
    "print(palabra_mas_larga(lista5))"
   ]
  },
  {
   "cell_type": "markdown",
   "metadata": {},
   "source": [
    "# Punto 3:\n",
    "Considere la siguiente función:\n",
    "```python\n",
    "def ejemplo_raro(list1, list2):  \n",
    "    result = False  \n",
    "    for x in list1:  \n",
    "        for y in list2:  \n",
    "            if x == y:  \n",
    "                result = True  \n",
    "                return result \n",
    "    return False\n",
    "```\n",
    "Describa en sus propias palabras qué hace la función `ejemplo_raro`."
   ]
  },
  {
   "cell_type": "code",
   "execution_count": null,
   "metadata": {},
   "outputs": [],
   "source": [
    "\n",
    "# La función ejemplo_raro crea un loop en el cual busca si hay un valor \n",
    "# que se repita entre la lista 1 y la lista 2.La función recibe dos listas \n",
    "# como insumos, lo primero que hace es tomar el primer valor de la lista 1 y \n",
    "# lo va comparando con todos los valores de la lista 2. Si hay un valor \n",
    "# de la lista 2 que es igual a al valor de la lista 1, la función da como \n",
    "# resultado true, si no encuentra valores iguales, la función da como \n",
    "# resultado false. Este proceso lo repite para todos los valores de la lista 1 \n",
    "# hasta que se analiza todos los valores de las dos listas.\n"
   ]
  }
 ],
 "metadata": {
  "kernelspec": {
   "display_name": "Python 3",
   "language": "python",
   "name": "python3"
  },
  "language_info": {
   "codemirror_mode": {
    "name": "ipython",
    "version": 3
   },
   "file_extension": ".py",
   "mimetype": "text/x-python",
   "name": "python",
   "nbconvert_exporter": "python",
   "pygments_lexer": "ipython3",
   "version": "3.8.5"
  }
 },
 "nbformat": 4,
 "nbformat_minor": 4
}
